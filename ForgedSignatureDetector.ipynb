{
 "cells": [
  {
   "cell_type": "code",
   "execution_count": 1,
   "metadata": {},
   "outputs": [
    {
     "name": "stderr",
     "output_type": "stream",
     "text": [
      "Using TensorFlow backend.\n"
     ]
    }
   ],
   "source": [
    "from keras.preprocessing.image import load_img\n",
    "from keras.preprocessing.image import img_to_array\n",
    "from keras.applications.vgg16 import preprocess_input\n",
    "import os\n",
    "import pandas as pd    \n",
    "import numpy as np\n",
    "size = 128,128\n",
    "\n",
    "def load_images(folder):\n",
    "    images = []\n",
    "    data = []\n",
    "    \n",
    "    for filename in os.listdir(folder):\n",
    "        image = load_img(os.path.join(folder, filename), target_size=size)\n",
    "        image = img_to_array(image)\n",
    "        image = image.reshape((image.shape[0], image.shape[1], image.shape[2]))\n",
    "        image = preprocess_input(image)\n",
    "        if image is not None:\n",
    "            images.append(image)\n",
    "    return images\n",
    "\n",
    "forged_images = load_images(r'C:\\\\Contents\\\\Kaggle\\\\handwritten_sign\\\\Mixed\\\\forg')\n",
    "\n"
   ]
  },
  {
   "cell_type": "code",
   "execution_count": 2,
   "metadata": {},
   "outputs": [],
   "source": [
    "real_images = load_images(r'C:\\\\Contents\\\\Kaggle\\\\handwritten_sign\\\\Mixed\\\\gen')"
   ]
  },
  {
   "cell_type": "code",
   "execution_count": 3,
   "metadata": {},
   "outputs": [
    {
     "data": {
      "text/plain": [
       "((128, 128, 3), (128, 128, 3))"
      ]
     },
     "execution_count": 3,
     "metadata": {},
     "output_type": "execute_result"
    }
   ],
   "source": [
    "real_images[0].shape, forged_images[2].shape"
   ]
  },
  {
   "cell_type": "code",
   "execution_count": 4,
   "metadata": {},
   "outputs": [
    {
     "data": {
      "text/plain": [
       "(232, 310)"
      ]
     },
     "execution_count": 4,
     "metadata": {},
     "output_type": "execute_result"
    }
   ],
   "source": [
    "len(real_images), len(forged_images)"
   ]
  },
  {
   "cell_type": "code",
   "execution_count": 5,
   "metadata": {},
   "outputs": [
    {
     "data": {
      "text/plain": [
       "array([[[151.061  , 138.22101, 131.32   ],\n",
       "        [151.061  , 138.22101, 131.32   ],\n",
       "        [151.061  , 138.22101, 131.32   ],\n",
       "        ...,\n",
       "        [151.061  , 138.22101, 131.32   ],\n",
       "        [151.061  , 138.22101, 131.32   ],\n",
       "        [151.061  , 138.22101, 131.32   ]],\n",
       "\n",
       "       [[151.061  , 138.22101, 131.32   ],\n",
       "        [151.061  , 138.22101, 131.32   ],\n",
       "        [151.061  , 138.22101, 131.32   ],\n",
       "        ...,\n",
       "        [151.061  , 138.22101, 131.32   ],\n",
       "        [151.061  , 138.22101, 131.32   ],\n",
       "        [151.061  , 138.22101, 131.32   ]],\n",
       "\n",
       "       [[151.061  , 138.22101, 131.32   ],\n",
       "        [151.061  , 138.22101, 131.32   ],\n",
       "        [151.061  , 138.22101, 131.32   ],\n",
       "        ...,\n",
       "        [151.061  , 138.22101, 131.32   ],\n",
       "        [151.061  , 138.22101, 131.32   ],\n",
       "        [151.061  , 138.22101, 131.32   ]],\n",
       "\n",
       "       ...,\n",
       "\n",
       "       [[151.061  , 138.22101, 131.32   ],\n",
       "        [151.061  , 138.22101, 131.32   ],\n",
       "        [151.061  , 138.22101, 131.32   ],\n",
       "        ...,\n",
       "        [151.061  , 138.22101, 131.32   ],\n",
       "        [151.061  , 138.22101, 131.32   ],\n",
       "        [151.061  , 138.22101, 131.32   ]],\n",
       "\n",
       "       [[151.061  , 138.22101, 131.32   ],\n",
       "        [151.061  , 138.22101, 131.32   ],\n",
       "        [151.061  , 138.22101, 131.32   ],\n",
       "        ...,\n",
       "        [151.061  , 138.22101, 131.32   ],\n",
       "        [151.061  , 138.22101, 131.32   ],\n",
       "        [151.061  , 138.22101, 131.32   ]],\n",
       "\n",
       "       [[151.061  , 138.22101, 131.32   ],\n",
       "        [151.061  , 138.22101, 131.32   ],\n",
       "        [151.061  , 138.22101, 131.32   ],\n",
       "        ...,\n",
       "        [151.061  , 138.22101, 131.32   ],\n",
       "        [151.061  , 138.22101, 131.32   ],\n",
       "        [151.061  , 138.22101, 131.32   ]]], dtype=float32)"
      ]
     },
     "execution_count": 5,
     "metadata": {},
     "output_type": "execute_result"
    }
   ],
   "source": [
    "forged_images[5]"
   ]
  },
  {
   "cell_type": "code",
   "execution_count": 6,
   "metadata": {},
   "outputs": [],
   "source": [
    "forged_images = np.array(forged_images)/255.0\n",
    "real_images = np.array(real_images)/255.0"
   ]
  },
  {
   "cell_type": "code",
   "execution_count": 7,
   "metadata": {},
   "outputs": [
    {
     "data": {
      "text/plain": [
       "array([[[0.5923961 , 0.54204315, 0.51498044],\n",
       "        [0.5923961 , 0.54204315, 0.51498044],\n",
       "        [0.5923961 , 0.54204315, 0.51498044],\n",
       "        ...,\n",
       "        [0.5923961 , 0.54204315, 0.51498044],\n",
       "        [0.5923961 , 0.54204315, 0.51498044],\n",
       "        [0.5923961 , 0.54204315, 0.51498044]],\n",
       "\n",
       "       [[0.5923961 , 0.54204315, 0.51498044],\n",
       "        [0.5923961 , 0.54204315, 0.51498044],\n",
       "        [0.5923961 , 0.54204315, 0.51498044],\n",
       "        ...,\n",
       "        [0.5923961 , 0.54204315, 0.51498044],\n",
       "        [0.5923961 , 0.54204315, 0.51498044],\n",
       "        [0.5923961 , 0.54204315, 0.51498044]],\n",
       "\n",
       "       [[0.5923961 , 0.54204315, 0.51498044],\n",
       "        [0.5923961 , 0.54204315, 0.51498044],\n",
       "        [0.5923961 , 0.54204315, 0.51498044],\n",
       "        ...,\n",
       "        [0.5923961 , 0.54204315, 0.51498044],\n",
       "        [0.5923961 , 0.54204315, 0.51498044],\n",
       "        [0.5923961 , 0.54204315, 0.51498044]],\n",
       "\n",
       "       ...,\n",
       "\n",
       "       [[0.5923961 , 0.54204315, 0.51498044],\n",
       "        [0.5923961 , 0.54204315, 0.51498044],\n",
       "        [0.5923961 , 0.54204315, 0.51498044],\n",
       "        ...,\n",
       "        [0.5923961 , 0.54204315, 0.51498044],\n",
       "        [0.5923961 , 0.54204315, 0.51498044],\n",
       "        [0.5923961 , 0.54204315, 0.51498044]],\n",
       "\n",
       "       [[0.5923961 , 0.54204315, 0.51498044],\n",
       "        [0.5923961 , 0.54204315, 0.51498044],\n",
       "        [0.5923961 , 0.54204315, 0.51498044],\n",
       "        ...,\n",
       "        [0.5923961 , 0.54204315, 0.51498044],\n",
       "        [0.5923961 , 0.54204315, 0.51498044],\n",
       "        [0.5923961 , 0.54204315, 0.51498044]],\n",
       "\n",
       "       [[0.5923961 , 0.54204315, 0.51498044],\n",
       "        [0.5923961 , 0.54204315, 0.51498044],\n",
       "        [0.5923961 , 0.54204315, 0.51498044],\n",
       "        ...,\n",
       "        [0.5923961 , 0.54204315, 0.51498044],\n",
       "        [0.5923961 , 0.54204315, 0.51498044],\n",
       "        [0.5923961 , 0.54204315, 0.51498044]]], dtype=float32)"
      ]
     },
     "execution_count": 7,
     "metadata": {},
     "output_type": "execute_result"
    }
   ],
   "source": [
    "forged_images[5]"
   ]
  },
  {
   "cell_type": "code",
   "execution_count": 8,
   "metadata": {},
   "outputs": [
    {
     "data": {
      "text/plain": [
       "array([[[0.5884745 , 0.5224353 , 0.45223528],\n",
       "        [0.58455294, 0.5224353 , 0.45223528],\n",
       "        [0.58455294, 0.5263569 , 0.45615685],\n",
       "        ...,\n",
       "        [0.5806314 , 0.53027844, 0.46792156],\n",
       "        [0.5806314 , 0.53027844, 0.46792156],\n",
       "        [0.5806314 , 0.53027844, 0.46792156]],\n",
       "\n",
       "       [[0.58455294, 0.5263569 , 0.45223528],\n",
       "        [0.58455294, 0.5263569 , 0.45223528],\n",
       "        [0.58455294, 0.51851374, 0.4483137 ],\n",
       "        ...,\n",
       "        [0.5806314 , 0.53027844, 0.47184312],\n",
       "        [0.5806314 , 0.53027844, 0.46792156],\n",
       "        [0.5806314 , 0.53027844, 0.46792156]],\n",
       "\n",
       "       [[0.58455294, 0.5263569 , 0.46007842],\n",
       "        [0.58455294, 0.5224353 , 0.45223528],\n",
       "        [0.5884745 , 0.51851374, 0.44439214],\n",
       "        ...,\n",
       "        [0.5806314 , 0.53027844, 0.4757647 ],\n",
       "        [0.5806314 , 0.53027844, 0.47184312],\n",
       "        [0.5806314 , 0.53027844, 0.464     ]],\n",
       "\n",
       "       ...,\n",
       "\n",
       "       [[0.5884745 , 0.51851374, 0.4483137 ],\n",
       "        [0.5884745 , 0.51851374, 0.44439214],\n",
       "        [0.5884745 , 0.5224353 , 0.4483137 ],\n",
       "        ...,\n",
       "        [0.58455294, 0.5263569 , 0.45615685],\n",
       "        [0.58455294, 0.53027844, 0.464     ],\n",
       "        [0.58455294, 0.5263569 , 0.45615685]],\n",
       "\n",
       "       [[0.58455294, 0.51851374, 0.4483137 ],\n",
       "        [0.58455294, 0.5263569 , 0.45223528],\n",
       "        [0.58455294, 0.5224353 , 0.45223528],\n",
       "        ...,\n",
       "        [0.58455294, 0.53027844, 0.464     ],\n",
       "        [0.58455294, 0.5263569 , 0.46007842],\n",
       "        [0.58455294, 0.53027844, 0.46007842]],\n",
       "\n",
       "       [[0.5884745 , 0.5224353 , 0.45223528],\n",
       "        [0.58455294, 0.5263569 , 0.45223528],\n",
       "        [0.58455294, 0.5263569 , 0.45615685],\n",
       "        ...,\n",
       "        [0.5806314 , 0.53027844, 0.47184312],\n",
       "        [0.58455294, 0.53027844, 0.46792156],\n",
       "        [0.5806314 , 0.53027844, 0.46792156]]], dtype=float32)"
      ]
     },
     "execution_count": 8,
     "metadata": {},
     "output_type": "execute_result"
    }
   ],
   "source": [
    "forged_images[50]"
   ]
  },
  {
   "cell_type": "code",
   "execution_count": 9,
   "metadata": {},
   "outputs": [
    {
     "data": {
      "text/plain": [
       "(128, 128, 3)"
      ]
     },
     "execution_count": 9,
     "metadata": {},
     "output_type": "execute_result"
    }
   ],
   "source": [
    "forged_images[50].shape"
   ]
  },
  {
   "cell_type": "code",
   "execution_count": 10,
   "metadata": {},
   "outputs": [],
   "source": [
    "real_labels = [1 for x in range(len(real_images))]"
   ]
  },
  {
   "cell_type": "code",
   "execution_count": 11,
   "metadata": {},
   "outputs": [
    {
     "data": {
      "text/plain": [
       "232"
      ]
     },
     "execution_count": 11,
     "metadata": {},
     "output_type": "execute_result"
    }
   ],
   "source": [
    "len(real_labels)"
   ]
  },
  {
   "cell_type": "code",
   "execution_count": 12,
   "metadata": {},
   "outputs": [
    {
     "data": {
      "text/plain": [
       "[1, 1, 1, 1, 1]"
      ]
     },
     "execution_count": 12,
     "metadata": {},
     "output_type": "execute_result"
    }
   ],
   "source": [
    "real_labels[:5]"
   ]
  },
  {
   "cell_type": "code",
   "execution_count": 13,
   "metadata": {},
   "outputs": [],
   "source": [
    "for_labels = [0 for x in range(len(forged_images))]"
   ]
  },
  {
   "cell_type": "code",
   "execution_count": 14,
   "metadata": {},
   "outputs": [],
   "source": [
    "all_images = np.concatenate((real_images, forged_images), axis=0)"
   ]
  },
  {
   "cell_type": "code",
   "execution_count": 15,
   "metadata": {},
   "outputs": [
    {
     "data": {
      "text/plain": [
       "(542, (128, 128, 3))"
      ]
     },
     "execution_count": 15,
     "metadata": {},
     "output_type": "execute_result"
    }
   ],
   "source": [
    "len(all_images), all_images[0].shape"
   ]
  },
  {
   "cell_type": "code",
   "execution_count": 16,
   "metadata": {},
   "outputs": [
    {
     "data": {
      "text/plain": [
       "array([[[0.5806314 , 0.53027844, 0.47184312],\n",
       "        [0.5806314 , 0.53027844, 0.47184312],\n",
       "        [0.5806314 , 0.53027844, 0.46792156],\n",
       "        ...,\n",
       "        [0.58455294, 0.5263569 , 0.45615685],\n",
       "        [0.58455294, 0.5263569 , 0.45223528],\n",
       "        [0.58455294, 0.53027844, 0.464     ]],\n",
       "\n",
       "       [[0.5806314 , 0.53027844, 0.47184312],\n",
       "        [0.5806314 , 0.53027844, 0.47184312],\n",
       "        [0.5806314 , 0.53027844, 0.47184312],\n",
       "        ...,\n",
       "        [0.58455294, 0.5263569 , 0.45615685],\n",
       "        [0.58455294, 0.53027844, 0.46007842],\n",
       "        [0.58455294, 0.53027844, 0.464     ]],\n",
       "\n",
       "       [[0.5806314 , 0.53027844, 0.47184312],\n",
       "        [0.5806314 , 0.53027844, 0.47184312],\n",
       "        [0.5806314 , 0.53027844, 0.47184312],\n",
       "        ...,\n",
       "        [0.58455294, 0.5263569 , 0.45615685],\n",
       "        [0.58455294, 0.53027844, 0.46007842],\n",
       "        [0.58455294, 0.53027844, 0.464     ]],\n",
       "\n",
       "       ...,\n",
       "\n",
       "       [[0.5806314 , 0.53027844, 0.46792156],\n",
       "        [0.58455294, 0.53027844, 0.464     ],\n",
       "        [0.5806314 , 0.53027844, 0.47184312],\n",
       "        ...,\n",
       "        [0.58455294, 0.53027844, 0.46007842],\n",
       "        [0.58455294, 0.53027844, 0.46007842],\n",
       "        [0.5806314 , 0.53027844, 0.46792156]],\n",
       "\n",
       "       [[0.5806314 , 0.53027844, 0.46792156],\n",
       "        [0.58455294, 0.53027844, 0.464     ],\n",
       "        [0.5806314 , 0.53027844, 0.47184312],\n",
       "        ...,\n",
       "        [0.58455294, 0.53027844, 0.46007842],\n",
       "        [0.58455294, 0.53027844, 0.46007842],\n",
       "        [0.5806314 , 0.53027844, 0.46792156]],\n",
       "\n",
       "       [[0.58455294, 0.53027844, 0.464     ],\n",
       "        [0.58455294, 0.53027844, 0.46792156],\n",
       "        [0.5806314 , 0.53027844, 0.46792156],\n",
       "        ...,\n",
       "        [0.58455294, 0.5263569 , 0.45615685],\n",
       "        [0.58455294, 0.5263569 , 0.45615685],\n",
       "        [0.58455294, 0.53027844, 0.46007842]]], dtype=float32)"
      ]
     },
     "execution_count": 16,
     "metadata": {},
     "output_type": "execute_result"
    }
   ],
   "source": [
    "all_images[0]"
   ]
  },
  {
   "cell_type": "code",
   "execution_count": 17,
   "metadata": {},
   "outputs": [
    {
     "data": {
      "text/plain": [
       "array([[[0.5806314 , 0.53027844, 0.47184312],\n",
       "        [0.5806314 , 0.53027844, 0.47184312],\n",
       "        [0.5806314 , 0.53027844, 0.46792156],\n",
       "        ...,\n",
       "        [0.58455294, 0.5263569 , 0.45615685],\n",
       "        [0.58455294, 0.5263569 , 0.45223528],\n",
       "        [0.58455294, 0.53027844, 0.464     ]],\n",
       "\n",
       "       [[0.5806314 , 0.53027844, 0.47184312],\n",
       "        [0.5806314 , 0.53027844, 0.47184312],\n",
       "        [0.5806314 , 0.53027844, 0.47184312],\n",
       "        ...,\n",
       "        [0.58455294, 0.5263569 , 0.45615685],\n",
       "        [0.58455294, 0.53027844, 0.46007842],\n",
       "        [0.58455294, 0.53027844, 0.464     ]],\n",
       "\n",
       "       [[0.5806314 , 0.53027844, 0.47184312],\n",
       "        [0.5806314 , 0.53027844, 0.47184312],\n",
       "        [0.5806314 , 0.53027844, 0.47184312],\n",
       "        ...,\n",
       "        [0.58455294, 0.5263569 , 0.45615685],\n",
       "        [0.58455294, 0.53027844, 0.46007842],\n",
       "        [0.58455294, 0.53027844, 0.464     ]],\n",
       "\n",
       "       ...,\n",
       "\n",
       "       [[0.5806314 , 0.53027844, 0.46792156],\n",
       "        [0.58455294, 0.53027844, 0.464     ],\n",
       "        [0.5806314 , 0.53027844, 0.47184312],\n",
       "        ...,\n",
       "        [0.58455294, 0.53027844, 0.46007842],\n",
       "        [0.58455294, 0.53027844, 0.46007842],\n",
       "        [0.5806314 , 0.53027844, 0.46792156]],\n",
       "\n",
       "       [[0.5806314 , 0.53027844, 0.46792156],\n",
       "        [0.58455294, 0.53027844, 0.464     ],\n",
       "        [0.5806314 , 0.53027844, 0.47184312],\n",
       "        ...,\n",
       "        [0.58455294, 0.53027844, 0.46007842],\n",
       "        [0.58455294, 0.53027844, 0.46007842],\n",
       "        [0.5806314 , 0.53027844, 0.46792156]],\n",
       "\n",
       "       [[0.58455294, 0.53027844, 0.464     ],\n",
       "        [0.58455294, 0.53027844, 0.46792156],\n",
       "        [0.5806314 , 0.53027844, 0.46792156],\n",
       "        ...,\n",
       "        [0.58455294, 0.5263569 , 0.45615685],\n",
       "        [0.58455294, 0.5263569 , 0.45615685],\n",
       "        [0.58455294, 0.53027844, 0.46007842]]], dtype=float32)"
      ]
     },
     "execution_count": 17,
     "metadata": {},
     "output_type": "execute_result"
    }
   ],
   "source": [
    "real_images[0]"
   ]
  },
  {
   "cell_type": "code",
   "execution_count": 18,
   "metadata": {},
   "outputs": [],
   "source": [
    "real_labels.extend(for_labels)"
   ]
  },
  {
   "cell_type": "code",
   "execution_count": 19,
   "metadata": {},
   "outputs": [],
   "source": [
    "input_data_shape = all_images[0].shape\n",
    "\n",
    "all_labels = real_labels"
   ]
  },
  {
   "cell_type": "code",
   "execution_count": 22,
   "metadata": {},
   "outputs": [],
   "source": [
    "from keras.layers import Dense\n",
    "from keras.layers import Flatten\n",
    "from keras.optimizers import SGD\n",
    "from keras.layers import Dense\n",
    "from keras.layers import Flatten\n",
    "from keras.applications.vgg16 import VGG16\n",
    "from keras.models import Model\n",
    "\n",
    "# define cnn model\n",
    "def define_model():\n",
    "    # load model\n",
    "    model = VGG16(include_top=False, input_shape=input_data_shape)\n",
    "    # mark loaded layers as not trainable\n",
    "    for layer in model.layers:\n",
    "        layer.trainable = False\n",
    "    # add new classifier layers\n",
    "    flat1 = Flatten()(model.layers[-1].output)\n",
    "    class1 = Dense(4096, activation='relu', kernel_initializer='he_uniform')(flat1)\n",
    "    output = Dense(1, activation='sigmoid')(class1)\n",
    "    # define new model\n",
    "    model = Model(inputs=model.inputs, outputs=output)\n",
    "    # compile model\n",
    "    opt = SGD(lr=0.001, momentum=0.9)\n",
    "    model.compile(optimizer=opt, loss='binary_crossentropy', metrics=['accuracy'])\n",
    "    return model\n",
    "\n",
    "model = define_model()"
   ]
  },
  {
   "cell_type": "code",
   "execution_count": 24,
   "metadata": {},
   "outputs": [
    {
     "name": "stdout",
     "output_type": "stream",
     "text": [
      "Train on 363 samples, validate on 179 samples\n",
      "Epoch 1/20\n",
      "363/363 [==============================] - 142s 392ms/step - loss: 0.6221 - accuracy: 0.6501 - val_loss: 0.5951 - val_accuracy: 0.7039\n",
      "Epoch 2/20\n",
      "363/363 [==============================] - 142s 392ms/step - loss: 0.5191 - accuracy: 0.7080 - val_loss: 1.0472 - val_accuracy: 0.3184\n",
      "Epoch 3/20\n",
      "363/363 [==============================] - 142s 392ms/step - loss: 0.4332 - accuracy: 0.8044 - val_loss: 1.3503 - val_accuracy: 0.1453\n",
      "Epoch 4/20\n",
      "363/363 [==============================] - 143s 393ms/step - loss: 0.3711 - accuracy: 0.8237 - val_loss: 2.7058 - val_accuracy: 0.0056\n",
      "Epoch 5/20\n",
      "363/363 [==============================] - 142s 392ms/step - loss: 0.5397 - accuracy: 0.7300 - val_loss: 1.9247 - val_accuracy: 0.0670\n",
      "Epoch 6/20\n",
      "363/363 [==============================] - 142s 392ms/step - loss: 0.3265 - accuracy: 0.8815 - val_loss: 1.1886 - val_accuracy: 0.3240\n",
      "Epoch 7/20\n",
      "363/363 [==============================] - 142s 392ms/step - loss: 0.3479 - accuracy: 0.8430 - val_loss: 1.0719 - val_accuracy: 0.4693\n",
      "Epoch 8/20\n",
      "363/363 [==============================] - 142s 392ms/step - loss: 0.2957 - accuracy: 0.8926 - val_loss: 1.5318 - val_accuracy: 0.2011\n",
      "Epoch 9/20\n",
      "363/363 [==============================] - 144s 397ms/step - loss: 0.2717 - accuracy: 0.8953 - val_loss: 2.0515 - val_accuracy: 0.1173\n",
      "Epoch 10/20\n",
      "363/363 [==============================] - 142s 392ms/step - loss: 0.2572 - accuracy: 0.8898 - val_loss: 0.7076 - val_accuracy: 0.6872\n",
      "Epoch 11/20\n",
      "363/363 [==============================] - 143s 394ms/step - loss: 0.2876 - accuracy: 0.8678 - val_loss: 1.7550 - val_accuracy: 0.1844\n",
      "Epoch 12/20\n",
      "363/363 [==============================] - 155s 426ms/step - loss: 0.2273 - accuracy: 0.9394 - val_loss: 2.0738 - val_accuracy: 0.1397\n",
      "Epoch 13/20\n",
      "363/363 [==============================] - 142s 391ms/step - loss: 0.2118 - accuracy: 0.9394 - val_loss: 1.4100 - val_accuracy: 0.3520\n",
      "Epoch 14/20\n",
      "363/363 [==============================] - 142s 391ms/step - loss: 0.2127 - accuracy: 0.9311 - val_loss: 1.4395 - val_accuracy: 0.3966\n",
      "Epoch 15/20\n",
      "363/363 [==============================] - 142s 391ms/step - loss: 0.1837 - accuracy: 0.9532 - val_loss: 1.3468 - val_accuracy: 0.4302\n",
      "Epoch 16/20\n",
      "363/363 [==============================] - 142s 390ms/step - loss: 0.1914 - accuracy: 0.9587 - val_loss: 0.8276 - val_accuracy: 0.6425\n",
      "Epoch 17/20\n",
      "363/363 [==============================] - 142s 391ms/step - loss: 0.2592 - accuracy: 0.8871 - val_loss: 0.7083 - val_accuracy: 0.7263\n",
      "Epoch 18/20\n",
      "363/363 [==============================] - 142s 390ms/step - loss: 0.2399 - accuracy: 0.8953 - val_loss: 0.9876 - val_accuracy: 0.6145\n",
      "Epoch 19/20\n",
      "363/363 [==============================] - 141s 389ms/step - loss: 0.1536 - accuracy: 0.9532 - val_loss: 1.8135 - val_accuracy: 0.2905\n",
      "Epoch 20/20\n",
      "363/363 [==============================] - 142s 392ms/step - loss: 0.1498 - accuracy: 0.9587 - val_loss: 2.2653 - val_accuracy: 0.2067\n"
     ]
    }
   ],
   "source": [
    "history = model.fit(all_images, all_labels, epochs=20,validation_split=0.33, batch_size = 20, shuffle = True)"
   ]
  },
  {
   "cell_type": "code",
   "execution_count": 26,
   "metadata": {},
   "outputs": [
    {
     "data": {
      "image/png": "[encoded data removed]",
      "text/plain": [
       "<Figure size 432x288 with 1 Axes>"
      ]
     },
     "metadata": {
      "needs_background": "light"
     },
     "output_type": "display_data"
    }
   ],
   "source": [
    "import matplotlib.pyplot as plt\n",
    "\n",
    "%matplotlib inline\n",
    "\n",
    "plt.plot(history.history[  'accuracy' ])\n",
    "plt.plot(history.history[ 'val_accuracy' ])\n",
    "plt.title( 'model accuracy' )\n",
    "plt.ylabel( 'accuracy' )\n",
    "plt.xlabel( 'epoch' )\n",
    "plt.legend([ 'train' , 'test' ], loc= 'upper left' )\n",
    "plt.show()"
   ]
  },
  {
   "cell_type": "code",
   "execution_count": 27,
   "metadata": {},
   "outputs": [
    {
     "data": {
      "image/png": "[encoded data removed]",
      "text/plain": [
       "<Figure size 432x288 with 1 Axes>"
      ]
     },
     "metadata": {
      "needs_background": "light"
     },
     "output_type": "display_data"
    }
   ],
   "source": [
    "##Loss plot \n",
    "plt.plot(history.history[  'loss' ])\n",
    "plt.plot(history.history[ 'val_loss' ])\n",
    "plt.title( 'model loss' )\n",
    "plt.ylabel( 'loss' )\n",
    "plt.xlabel( 'epoch' )\n",
    "plt.legend([ 'train' , 'test' ], loc= 'upper left' )\n",
    "plt.show()"
   ]
  },
  {
   "cell_type": "code",
   "execution_count": 40,
   "metadata": {},
   "outputs": [],
   "source": [
    "from keras.callbacks import ModelCheckpoint\n",
    "\n",
    "filepath=r'C:\\\\Contents\\\\Kaggle\\\\handwritten_sign\\\\weights-improv-{epoch:02d}-{val_accuracy:.2f}.hdf5'\n",
    "checkpoint = ModelCheckpoint(filepath, monitor= 'val_accuracy' , verbose=1, save_best_only=True, mode= 'max' )\n",
    "callbacks_ = [checkpoint]\n",
    "\n"
   ]
  },
  {
   "cell_type": "code",
   "execution_count": 41,
   "metadata": {},
   "outputs": [
    {
     "name": "stdout",
     "output_type": "stream",
     "text": [
      "Train on 363 samples, validate on 179 samples\n",
      "Epoch 1/30\n",
      "363/363 [==============================] - 144s 396ms/step - loss: 1.1324 - accuracy: 0.5565 - val_loss: 4.9111 - val_accuracy: 0.0000e+00\n",
      "\n",
      "Epoch 00001: val_accuracy improved from -inf to 0.00000, saving model to C:\\\\Contents\\\\Kaggle\\\\handwritten_sign\\\\weights-improv-01-0.00.hdf5\n",
      "Epoch 2/30\n",
      "363/363 [==============================] - 142s 391ms/step - loss: 0.7207 - accuracy: 0.6722 - val_loss: 1.0053 - val_accuracy: 0.4693\n",
      "\n",
      "Epoch 00002: val_accuracy improved from 0.00000 to 0.46927, saving model to C:\\\\Contents\\\\Kaggle\\\\handwritten_sign\\\\weights-improv-02-0.47.hdf5\n",
      "Epoch 3/30\n",
      "363/363 [==============================] - 144s 397ms/step - loss: 0.4865 - accuracy: 0.7466 - val_loss: 3.0942 - val_accuracy: 0.0000e+00\n",
      "\n",
      "Epoch 00003: val_accuracy did not improve from 0.46927\n",
      "Epoch 4/30\n",
      "363/363 [==============================] - 142s 392ms/step - loss: 0.4451 - accuracy: 0.7989 - val_loss: 0.6856 - val_accuracy: 0.6983\n",
      "\n",
      "Epoch 00004: val_accuracy improved from 0.46927 to 0.69832, saving model to C:\\\\Contents\\\\Kaggle\\\\handwritten_sign\\\\weights-improv-04-0.70.hdf5\n",
      "Epoch 5/30\n",
      "363/363 [==============================] - 144s 397ms/step - loss: 0.3641 - accuracy: 0.8264 - val_loss: 1.1893 - val_accuracy: 0.3575\n",
      "\n",
      "Epoch 00005: val_accuracy did not improve from 0.69832\n",
      "Epoch 6/30\n",
      "363/363 [==============================] - 144s 395ms/step - loss: 0.3294 - accuracy: 0.8567 - val_loss: 1.1190 - val_accuracy: 0.4413\n",
      "\n",
      "Epoch 00006: val_accuracy did not improve from 0.69832\n",
      "Epoch 7/30\n",
      "363/363 [==============================] - 144s 396ms/step - loss: 0.3154 - accuracy: 0.8678 - val_loss: 1.9738 - val_accuracy: 0.1117\n",
      "\n",
      "Epoch 00007: val_accuracy did not improve from 0.69832\n",
      "Epoch 8/30\n",
      "363/363 [==============================] - 147s 406ms/step - loss: 0.3134 - accuracy: 0.8567 - val_loss: 1.9594 - val_accuracy: 0.1117\n",
      "\n",
      "Epoch 00008: val_accuracy did not improve from 0.69832\n",
      "Epoch 9/30\n",
      "363/363 [==============================] - 145s 400ms/step - loss: 0.4729 - accuracy: 0.7713 - val_loss: 1.0684 - val_accuracy: 0.5587\n",
      "\n",
      "Epoch 00009: val_accuracy did not improve from 0.69832\n",
      "Epoch 10/30\n",
      "363/363 [==============================] - 589s 2s/step - loss: 0.2528 - accuracy: 0.9118 - val_loss: 1.3159 - val_accuracy: 0.4134\n",
      "\n",
      "Epoch 00010: val_accuracy did not improve from 0.69832\n",
      "Epoch 11/30\n",
      "363/363 [==============================] - 95s 261ms/step - loss: 0.2276 - accuracy: 0.9174 - val_loss: 1.0264 - val_accuracy: 0.5587\n",
      "\n",
      "Epoch 00011: val_accuracy did not improve from 0.69832\n",
      "Epoch 12/30\n",
      "363/363 [==============================] - 144s 396ms/step - loss: 0.2870 - accuracy: 0.8760 - val_loss: 0.6468 - val_accuracy: 0.7151\n",
      "\n",
      "Epoch 00012: val_accuracy improved from 0.69832 to 0.71508, saving model to C:\\\\Contents\\\\Kaggle\\\\handwritten_sign\\\\weights-improv-12-0.72.hdf5\n",
      "Epoch 13/30\n",
      "363/363 [==============================] - 150s 413ms/step - loss: 0.2922 - accuracy: 0.8678 - val_loss: 0.9605 - val_accuracy: 0.5978\n",
      "\n",
      "Epoch 00013: val_accuracy did not improve from 0.71508\n",
      "Epoch 14/30\n",
      "363/363 [==============================] - 145s 398ms/step - loss: 0.2140 - accuracy: 0.9339 - val_loss: 1.6240 - val_accuracy: 0.3240\n",
      "\n",
      "Epoch 00014: val_accuracy did not improve from 0.71508\n",
      "Epoch 15/30\n",
      "363/363 [==============================] - 145s 399ms/step - loss: 0.3650 - accuracy: 0.8154 - val_loss: 0.8143 - val_accuracy: 0.6480\n",
      "\n",
      "Epoch 00015: val_accuracy did not improve from 0.71508\n",
      "Epoch 16/30\n",
      "363/363 [==============================] - 143s 395ms/step - loss: 0.1952 - accuracy: 0.9421 - val_loss: 1.5108 - val_accuracy: 0.4022\n",
      "\n",
      "Epoch 00016: val_accuracy did not improve from 0.71508\n",
      "Epoch 17/30\n",
      "363/363 [==============================] - 103s 285ms/step - loss: 0.1764 - accuracy: 0.9394 - val_loss: 2.8734 - val_accuracy: 0.1006\n",
      "\n",
      "Epoch 00017: val_accuracy did not improve from 0.71508\n",
      "Epoch 18/30\n",
      "363/363 [==============================] - 61s 169ms/step - loss: 0.2182 - accuracy: 0.9118 - val_loss: 1.0892 - val_accuracy: 0.5698\n",
      "\n",
      "Epoch 00018: val_accuracy did not improve from 0.71508\n",
      "Epoch 19/30\n",
      "363/363 [==============================] - 64s 175ms/step - loss: 0.1598 - accuracy: 0.9504 - val_loss: 1.3886 - val_accuracy: 0.4302\n",
      "\n",
      "Epoch 00019: val_accuracy did not improve from 0.71508\n",
      "Epoch 20/30\n",
      "363/363 [==============================] - 64s 178ms/step - loss: 0.1316 - accuracy: 0.9780 - val_loss: 2.0852 - val_accuracy: 0.2682\n",
      "\n",
      "Epoch 00020: val_accuracy did not improve from 0.71508\n",
      "Epoch 21/30\n",
      "363/363 [==============================] - 67s 184ms/step - loss: 0.1216 - accuracy: 0.9807 - val_loss: 1.3565 - val_accuracy: 0.4637\n",
      "\n",
      "Epoch 00021: val_accuracy did not improve from 0.71508\n",
      "Epoch 22/30\n",
      "363/363 [==============================] - 66s 182ms/step - loss: 0.1191 - accuracy: 0.9835 - val_loss: 2.1245 - val_accuracy: 0.2793\n",
      "\n",
      "Epoch 00022: val_accuracy did not improve from 0.71508\n",
      "Epoch 23/30\n",
      "363/363 [==============================] - 68s 187ms/step - loss: 0.1432 - accuracy: 0.9669 - val_loss: 1.8470 - val_accuracy: 0.3631\n",
      "\n",
      "Epoch 00023: val_accuracy did not improve from 0.71508\n",
      "Epoch 24/30\n",
      "363/363 [==============================] - 75s 208ms/step - loss: 0.1096 - accuracy: 0.9835 - val_loss: 1.6336 - val_accuracy: 0.4022\n",
      "\n",
      "Epoch 00024: val_accuracy did not improve from 0.71508\n",
      "Epoch 25/30\n",
      "363/363 [==============================] - 70s 192ms/step - loss: 0.1137 - accuracy: 0.9835 - val_loss: 1.3995 - val_accuracy: 0.4916\n",
      "\n",
      "Epoch 00025: val_accuracy did not improve from 0.71508\n",
      "Epoch 26/30\n",
      "363/363 [==============================] - 80s 221ms/step - loss: 0.1470 - accuracy: 0.9449 - val_loss: 1.7576 - val_accuracy: 0.3799\n",
      "\n",
      "Epoch 00026: val_accuracy did not improve from 0.71508\n",
      "Epoch 27/30\n",
      "363/363 [==============================] - 77s 213ms/step - loss: 0.1315 - accuracy: 0.9559 - val_loss: 1.9079 - val_accuracy: 0.3631\n",
      "\n",
      "Epoch 00027: val_accuracy did not improve from 0.71508\n",
      "Epoch 28/30\n",
      "363/363 [==============================] - 73s 201ms/step - loss: 0.1018 - accuracy: 0.9780 - val_loss: 2.2186 - val_accuracy: 0.3128\n",
      "\n",
      "Epoch 00028: val_accuracy did not improve from 0.71508\n",
      "Epoch 29/30\n",
      "363/363 [==============================] - 73s 200ms/step - loss: 0.1055 - accuracy: 0.9835 - val_loss: 2.1496 - val_accuracy: 0.3184\n",
      "\n",
      "Epoch 00029: val_accuracy did not improve from 0.71508\n",
      "Epoch 30/30\n",
      "363/363 [==============================] - 76s 209ms/step - loss: 0.0862 - accuracy: 0.9890 - val_loss: 1.4163 - val_accuracy: 0.4916\n",
      "\n",
      "Epoch 00030: val_accuracy did not improve from 0.71508\n"
     ]
    }
   ],
   "source": [
    "\n",
    "# define cnn model\n",
    "def define_model():\n",
    "    # load model\n",
    "    model = VGG16(include_top=False, input_shape=input_data_shape)\n",
    "    # mark loaded layers as not trainable\n",
    "    for layer in model.layers:\n",
    "        layer.trainable = False\n",
    "    # add new classifier layers\n",
    "    flat1 = Flatten()(model.layers[-1].output)\n",
    "    class1 = Dense(8192, activation='relu', kernel_initializer='he_uniform')(flat1)\n",
    "    output = Dense(1, activation='sigmoid')(class1)\n",
    "    # define new model\n",
    "    model = Model(inputs=model.inputs, outputs=output)\n",
    "    # compile model\n",
    "    opt = SGD(lr=0.001, momentum=0.9)\n",
    "    model.compile(optimizer=opt, loss='binary_crossentropy', metrics=['accuracy'])\n",
    "    return model\n",
    "\n",
    "model_ = define_model()\n",
    "\n",
    "history = model_.fit(all_images, all_labels, epochs=30,validation_split=0.33, batch_size = 20, shuffle = True, callbacks=callbacks_)"
   ]
  },
  {
   "cell_type": "code",
   "execution_count": 42,
   "metadata": {},
   "outputs": [
    {
     "data": {
      "image/png": "[encoded data removed]",
      "text/plain": [
       "<Figure size 432x288 with 1 Axes>"
      ]
     },
     "metadata": {
      "needs_background": "light"
     },
     "output_type": "display_data"
    }
   ],
   "source": [
    "plt.plot(history.history[  'accuracy' ])\n",
    "plt.plot(history.history[ 'val_accuracy' ])\n",
    "plt.title( 'model accuracy' )\n",
    "plt.ylabel( 'accuracy' )\n",
    "plt.xlabel( 'epoch' )\n",
    "plt.legend([ 'train' , 'test' ], loc= 'upper left' )\n",
    "plt.show()"
   ]
  },
  {
   "cell_type": "code",
   "execution_count": 43,
   "metadata": {},
   "outputs": [
    {
     "data": {
      "image/png": "[encoded data removed]",
      "text/plain": [
       "<Figure size 432x288 with 1 Axes>"
      ]
     },
     "metadata": {
      "needs_background": "light"
     },
     "output_type": "display_data"
    }
   ],
   "source": [
    "##Loss plot \n",
    "plt.plot(history.history[  'loss' ])\n",
    "plt.plot(history.history[ 'val_loss' ])\n",
    "plt.title( 'model loss' )\n",
    "plt.ylabel( 'loss' )\n",
    "plt.xlabel( 'epoch' )\n",
    "plt.legend([ 'train' , 'test' ], loc= 'upper left' )\n",
    "plt.show()"
   ]
  },
  {
   "cell_type": "code",
   "execution_count": null,
   "metadata": {},
   "outputs": [],
   "source": []
  }
 ],
 "metadata": {
  "kernelspec": {
   "display_name": "Python 3",
   "language": "python",
   "name": "python3"
  },
  "language_info": {
   "codemirror_mode": {
    "name": "ipython",
    "version": 3
   },
   "file_extension": ".py",
   "mimetype": "text/x-python",
   "name": "python",
   "nbconvert_exporter": "python",
   "pygments_lexer": "ipython3",
   "version": "3.7.4"
  }
 },
 "nbformat": 4,
 "nbformat_minor": 2
}
